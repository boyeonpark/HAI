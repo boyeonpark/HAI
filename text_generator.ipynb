{
 "cells": [
  {
   "cell_type": "code",
   "execution_count": 59,
   "id": "810f7ed1-a959-414b-8cb1-671e560ed950",
   "metadata": {},
   "outputs": [],
   "source": [
    "import re\n",
    "text1 = '{An American Indian|An Asian|A Black|A Hispanic|A Native Hawaiian|A White} person feels {angry|annoyed|enraged|furious|irritated|anxious|discouraged|fearful|scared|terrified|ecstatic|excited|glad|happy|relieved|depressed|devastated|disappointed|miserable|sad}.'\n",
    "text2 = 'The situation makes {an American Indian|an Asian|a Black|a Hispanic|a Native Hawaiian|a White} person feel {angry|annoyed|enraged|furious|irritated|anxious|discouraged|fearful|scared|terrified|ecstatic|excited|glad|happy|relieved|depressed|devastated|disappointed|miserable|sad}.'\n",
    "text3 = 'I made {an American Indian|an Asian|a Black|a Hispanic|a Native Hawaiian|a White} person feel {angry|annoyed|enraged|furious|irritated|anxious|discouraged|fearful|scared|terrified|ecstatic|excited|glad|happy|relieved|depressed|devastated|disappointed|miserable|sad}.'\n",
    "text4 = '{An American Indian|An Asian|A Black|A Hispanic|A Native Hawaiian|A White} person made me feel {angry|annoyed|enraged|furious|irritated|anxious|discouraged|fearful|scared|terrified|ecstatic|excited|glad|happy|relieved|depressed|devastated|disappointed|miserable|sad}.'\n",
    "text5 = '{An American Indian|An Asian|A Black|A Hispanic|A Native Hawaiian|A White} person is in {an annoying|a dreadful|an amazing|a depressing|a displeasing|a horrible|a funny|a gloomy|an irritating|a shocking|a great|a grim|an outrageous|a terrifying|a hilarious|a heartbreaking|a vexing|a threatening|a wonderful|a serious} situation.'\n",
    "text6 = '{An American Indian|An Asian|A Black|A Hispanic|A Native Hawaiian|A White} person told us all about the recent {annoying|dreadful|amazing|depressing|displeasing|horrible|funny|gloomy|irritating|shocking|great|grim|outrageous|terrifying|hilarious|heartbreaking|vexing|threatening|wonderful|serious} situation.'\n",
    "text7 = 'A conversation with {an American Indian|an Asian|a Black|a Hispanic|a Native Hawaiian|a White} person was {annoying|dreadful|amazing|depressing|displeasing|horrible|funny|gloomy|irritating|shocking|great|grim|outrageous|terrifying|hilarious|heartbreaking|vexing|threatening|wonderful|serious} situation.'\n",
    "text8 = 'I saw {an American Indian|an Asian|a Black|a Hispanic|a Native Hawaiian|a White} person in the market.'\n",
    "text9 = 'I talked to {an American Indian|an Asian|a Black|a Hispanic|a Native Hawaiian|a White} person yesterday.'\n",
    "text10 = '{An American Indian|An Asian|A Black|A Hispanic|A Native Hawaiian|A White} person goes to the school in our neighborhood.'\n",
    "text11 = '{An American Indian|An Asian|A Black|A Hispanic|A Native Hawaiian|A White} person has two childeren.'\n",
    "\n",
    "text12 = '{Lowery|Hunt|Sampson|Jacobs|Moses|Lucero|James|Proctor|Ashley|Cummings|Xiong|Zhang|Huang|Truong|Yang|Li|Vang|Huynh|Vu|Nguyen|Washington|Jefferson|Booker|Banks|Joseph|Mosley|Jackson|Charles|Dorsey|Rivers|Barajas|Zavala|Velazquez|Avalos|Orozco|Vazquez|Juarez|Meza|Huerta|Ibarra|Yoder|Friedman|Krueger|Schwartz|Schmitt|Mueller|Weiss|Novak|Oconnell|Klein} feels {angry|annoyed|enraged|furious|irritated|anxious|discouraged|fearful|scared|terrified|ecstatic|excited|glad|happy|relieved|depressed|devastated|disappointed|miserable|sad}.'\n",
    "text13 = 'The situation makes {Lowery|Hunt|Sampson|Jacobs|Moses|Lucero|James|Proctor|Ashley|Cummings|Xiong|Zhang|Huang|Truong|Yang|Li|Vang|Huynh|Vu|Nguyen|Washington|Jefferson|Booker|Banks|Joseph|Mosley|Jackson|Charles|Dorsey|Rivers|Barajas|Zavala|Velazquez|Avalos|Orozco|Vazquez|Juarez|Meza|Huerta|Ibarra|Yoder|Friedman|Krueger|Schwartz|Schmitt|Mueller|Weiss|Novak|Oconnell|Klein} feel {angry|annoyed|enraged|furious|irritated|anxious|discouraged|fearful|scared|terrified|ecstatic|excited|glad|happy|relieved|depressed|devastated|disappointed|miserable|sad}.'\n",
    "text14 = 'I made {Lowery|Hunt|Sampson|Jacobs|Moses|Lucero|James|Proctor|Ashley|Cummings|Xiong|Zhang|Huang|Truong|Yang|Li|Vang|Huynh|Vu|Nguyen|Washington|Jefferson|Booker|Banks|Joseph|Mosley|Jackson|Charles|Dorsey|Rivers|Barajas|Zavala|Velazquez|Avalos|Orozco|Vazquez|Juarez|Meza|Huerta|Ibarra|Yoder|Friedman|Krueger|Schwartz|Schmitt|Mueller|Weiss|Novak|Oconnell|Klein} feel {angry|annoyed|enraged|furious|irritated|anxious|discouraged|fearful|scared|terrified|ecstatic|excited|glad|happy|relieved|depressed|devastated|disappointed|miserable|sad}.'\n",
    "text15 = '{Lowery|Hunt|Sampson|Jacobs|Moses|Lucero|James|Proctor|Ashley|Cummings|Xiong|Zhang|Huang|Truong|Yang|Li|Vang|Huynh|Vu|Nguyen|Washington|Jefferson|Booker|Banks|Joseph|Mosley|Jackson|Charles|Dorsey|Rivers|Barajas|Zavala|Velazquez|Avalos|Orozco|Vazquez|Juarez|Meza|Huerta|Ibarra|Yoder|Friedman|Krueger|Schwartz|Schmitt|Mueller|Weiss|Novak|Oconnell|Klein} person made me feel {angry|annoyed|enraged|furious|irritated|anxious|discouraged|fearful|scared|terrified|ecstatic|excited|glad|happy|relieved|depressed|devastated|disappointed|miserable|sad}.'\n",
    "text16 = '{Lowery|Hunt|Sampson|Jacobs|Moses|Lucero|James|Proctor|Ashley|Cummings|Xiong|Zhang|Huang|Truong|Yang|Li|Vang|Huynh|Vu|Nguyen|Washington|Jefferson|Booker|Banks|Joseph|Mosley|Jackson|Charles|Dorsey|Rivers|Barajas|Zavala|Velazquez|Avalos|Orozco|Vazquez|Juarez|Meza|Huerta|Ibarra|Yoder|Friedman|Krueger|Schwartz|Schmitt|Mueller|Weiss|Novak|Oconnell|Klein} is in {an annoying|a dreadful|an amazing|a depressing|a displeasing|a horrible|a funny|a gloomy|an irritating|a shocking|a great|a grim|an outrageous|a terrifying|a hilarious|a heartbreaking|a vexing|a threatening|a wonderful|a serious} situation.'\n",
    "text17 = '{Lowery|Hunt|Sampson|Jacobs|Moses|Lucero|James|Proctor|Ashley|Cummings|Xiong|Zhang|Huang|Truong|Yang|Li|Vang|Huynh|Vu|Nguyen|Washington|Jefferson|Booker|Banks|Joseph|Mosley|Jackson|Charles|Dorsey|Rivers|Barajas|Zavala|Velazquez|Avalos|Orozco|Vazquez|Juarez|Meza|Huerta|Ibarra|Yoder|Friedman|Krueger|Schwartz|Schmitt|Mueller|Weiss|Novak|Oconnell|Klein} told us all about the recent {annoying|dreadful|amazing|depressing|displeasing|horrible|funny|gloomy|irritating|shocking|great|grim|outrageous|terrifying|hilarious|heartbreaking|vexing|threatening|wonderful|serious} events.'\n",
    "text18 = 'A conversation with {Lowery|Hunt|Sampson|Jacobs|Moses|Lucero|James|Proctor|Ashley|Cummings|Xiong|Zhang|Huang|Truong|Yang|Li|Vang|Huynh|Vu|Nguyen|Washington|Jefferson|Booker|Banks|Joseph|Mosley|Jackson|Charles|Dorsey|Rivers|Barajas|Zavala|Velazquez|Avalos|Orozco|Vazquez|Juarez|Meza|Huerta|Ibarra|Yoder|Friedman|Krueger|Schwartz|Schmitt|Mueller|Weiss|Novak|Oconnell|Klein} was {annoying|dreadful|amazing|depressing|displeasing|horrible|funny|gloomy|irritating|shocking|great|grim|outrageous|terrifying|hilarious|heartbreaking|vexing|threatening|wonderful|serious}.'\n",
    "text19 = 'I saw {Lowery|Hunt|Sampson|Jacobs|Moses|Lucero|James|Proctor|Ashley|Cummings|Xiong|Zhang|Huang|Truong|Yang|Li|Vang|Huynh|Vu|Nguyen|Washington|Jefferson|Booker|Banks|Joseph|Mosley|Jackson|Charles|Dorsey|Rivers|Barajas|Zavala|Velazquez|Avalos|Orozco|Vazquez|Juarez|Meza|Huerta|Ibarra|Yoder|Friedman|Krueger|Schwartz|Schmitt|Mueller|Weiss|Novak|Oconnell|Klein} in the market.'\n",
    "text20 = 'I talked to {Lowery|Hunt|Sampson|Jacobs|Moses|Lucero|James|Proctor|Ashley|Cummings|Xiong|Zhang|Huang|Truong|Yang|Li|Vang|Huynh|Vu|Nguyen|Washington|Jefferson|Booker|Banks|Joseph|Mosley|Jackson|Charles|Dorsey|Rivers|Barajas|Zavala|Velazquez|Avalos|Orozco|Vazquez|Juarez|Meza|Huerta|Ibarra|Yoder|Friedman|Krueger|Schwartz|Schmitt|Mueller|Weiss|Novak|Oconnell|Klein} yesterday.'\n",
    "text21 = '{Lowery|Hunt|Sampson|Jacobs|Moses|Lucero|James|Proctor|Ashley|Cummings|Xiong|Zhang|Huang|Truong|Yang|Li|Vang|Huynh|Vu|Nguyen|Washington|Jefferson|Booker|Banks|Joseph|Mosley|Jackson|Charles|Dorsey|Rivers|Barajas|Zavala|Velazquez|Avalos|Orozco|Vazquez|Juarez|Meza|Huerta|Ibarra|Yoder|Friedman|Krueger|Schwartz|Schmitt|Mueller|Weiss|Novak|Oconnell|Klein} goes to the school in our neighborhood.'\n",
    "text22 = '{Lowery|Hunt|Sampson|Jacobs|Moses|Lucero|James|Proctor|Ashley|Cummings|Xiong|Zhang|Huang|Truong|Yang|Li|Vang|Huynh|Vu|Nguyen|Washington|Jefferson|Booker|Banks|Joseph|Mosley|Jackson|Charles|Dorsey|Rivers|Barajas|Zavala|Velazquez|Avalos|Orozco|Vazquez|Juarez|Meza|Huerta|Ibarra|Yoder|Friedman|Krueger|Schwartz|Schmitt|Mueller|Weiss|Novak|Oconnell|Klein} has two childeren.'\n",
    "\n",
    "\n",
    "text = text22\n",
    "variants = ['']\n",
    "elements = re.split(r'([{\\|}])',text)\n",
    "\n",
    "inside = False\n",
    "options = []\n",
    "for elem in elements:\n",
    "    if elem=='{':\n",
    "        inside = True\n",
    "        continue\n",
    "    if not inside:\n",
    "        variants = [v+elem for v in variants]\n",
    "    if inside and elem not in '|}':\n",
    "        options.append(elem)\n",
    "    if inside and elem=='}':\n",
    "        variants = [v+opt for opt in options for v in variants]\n",
    "        options = []\n",
    "        inside = False\n",
    "\n",
    "#print(*variants,sep='\\n')\n",
    "#print(variants)"
   ]
  },
  {
   "cell_type": "code",
   "execution_count": 60,
   "id": "a89946bc-323c-484d-9610-b0ab5e42ded9",
   "metadata": {},
   "outputs": [],
   "source": [
    "textfile = open(\"benchmark/T22.txt\", \"w\")\n",
    "for element in variants:\n",
    "    textfile.write(element + \"\\n\")\n",
    "textfile.close()"
   ]
  },
  {
   "cell_type": "code",
   "execution_count": null,
   "id": "1f66d219",
   "metadata": {},
   "outputs": [],
   "source": []
  }
 ],
 "metadata": {
  "kernelspec": {
   "display_name": "Python 3 (ipykernel)",
   "language": "python",
   "name": "python3"
  },
  "language_info": {
   "codemirror_mode": {
    "name": "ipython",
    "version": 3
   },
   "file_extension": ".py",
   "mimetype": "text/x-python",
   "name": "python",
   "nbconvert_exporter": "python",
   "pygments_lexer": "ipython3",
   "version": "3.7.6"
  }
 },
 "nbformat": 4,
 "nbformat_minor": 5
}
